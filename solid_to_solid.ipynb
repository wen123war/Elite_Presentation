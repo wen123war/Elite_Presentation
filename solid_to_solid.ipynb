{
 "cells": [
  {
   "cell_type": "markdown",
   "id": "87784fe9-8cdb-4b4e-89b3-5f747fbba835",
   "metadata": {},
   "source": [
    "## Molecular Dynamics Studio &ndash; Solid-solid phase transformation\n",
    "Prof. Blazej Grabowski, Wenchuan Liu, Sebastian Schmidt  \n",
    "Department of Materials Design, Institute for Materials Science, University of Stuttgart"
   ]
  },
  {
   "cell_type": "code",
   "execution_count": null,
   "id": "a46e0ff2-f054-4184-a51d-b51ff73856fb",
   "metadata": {},
   "outputs": [],
   "source": [
    "# load required libraries\n",
    "from functions_library import MD_system, input_phase_transformation, animate"
   ]
  },
  {
   "cell_type": "code",
   "execution_count": null,
   "id": "9d3558b0-8b70-43c1-b77c-a3a3cd62f994",
   "metadata": {},
   "outputs": [],
   "source": [
    "# setup and run the calculation\n",
    "MD = input_phase_transformation(MD_system)"
   ]
  },
  {
   "cell_type": "code",
   "execution_count": null,
   "id": "bdd6e8e7-257a-4607-9aed-a4658149c18e",
   "metadata": {},
   "outputs": [],
   "source": [
    "# show the animation\n",
    "animate(MD)"
   ]
  }
 ],
 "metadata": {
  "kernelspec": {
   "display_name": "Python 3 (ipykernel)",
   "language": "python",
   "name": "python3"
  },
  "language_info": {
   "codemirror_mode": {
    "name": "ipython",
    "version": 3
   },
   "file_extension": ".py",
   "mimetype": "text/x-python",
   "name": "python",
   "nbconvert_exporter": "python",
   "pygments_lexer": "ipython3",
   "version": "3.10.8"
  }
 },
 "nbformat": 4,
 "nbformat_minor": 5
}
