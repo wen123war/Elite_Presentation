{
 "cells": [
  {
   "cell_type": "markdown",
   "id": "71831ebd",
   "metadata": {},
   "source": [
    "# Molecule Dynamic Studio\n",
    "Prof. Blazej Grabowski, Wenchuan Liu, Sebastian Schmidt\n",
    "\n",
    "Department of Materials Design, University of Stuttgart"
   ]
  },
  {
   "cell_type": "code",
   "execution_count": null,
   "id": "60ede899",
   "metadata": {},
   "outputs": [],
   "source": [
    "from functions_library import MD_system, input_surface_melting, input_surface_PT, animate_show"
   ]
  },
  {
   "cell_type": "code",
   "execution_count": null,
   "id": "e523a047",
   "metadata": {},
   "outputs": [],
   "source": [
    "System_melting = input_surface_melting(MD_system)"
   ]
  },
  {
   "cell_type": "code",
   "execution_count": null,
   "id": "fb110508",
   "metadata": {},
   "outputs": [],
   "source": [
    "# Show the animation\n",
    "animate_show(System_melting)"
   ]
  },
  {
   "cell_type": "code",
   "execution_count": null,
   "id": "9c92e5b7",
   "metadata": {},
   "outputs": [],
   "source": [
    "System_PT = input_surface_PT(MD_system)"
   ]
  },
  {
   "cell_type": "code",
   "execution_count": null,
   "id": "1074ba7a",
   "metadata": {},
   "outputs": [],
   "source": [
    "# Show the animation\n",
    "animate_show(System_PT)"
   ]
  }
 ],
 "metadata": {
  "kernelspec": {
   "display_name": "Python 3 (ipykernel)",
   "language": "python",
   "name": "python3"
  },
  "language_info": {
   "codemirror_mode": {
    "name": "ipython",
    "version": 3
   },
   "file_extension": ".py",
   "mimetype": "text/x-python",
   "name": "python",
   "nbconvert_exporter": "python",
   "pygments_lexer": "ipython3",
   "version": "3.10.6"
  },
  "toc": {
   "base_numbering": 1,
   "nav_menu": {},
   "number_sections": true,
   "sideBar": true,
   "skip_h1_title": false,
   "title_cell": "Table of Contents",
   "title_sidebar": "Contents",
   "toc_cell": false,
   "toc_position": {},
   "toc_section_display": true,
   "toc_window_display": false
  }
 },
 "nbformat": 4,
 "nbformat_minor": 5
}
